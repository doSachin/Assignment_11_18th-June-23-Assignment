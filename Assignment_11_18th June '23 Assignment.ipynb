{
 "cells": [
  {
   "cell_type": "markdown",
   "id": "b264b4c2",
   "metadata": {},
   "source": [
    "<h1 align=\"center\" ><span style=\"color: blue; font-size: 48px; \"><b> Assignment No. 11</b></span></h1>\n",
    "\n",
    "<h1 style=\"font-family: Trebuchet MS; font-size: 14px; color: #34495E; text-align: right; \">Submitted By: Sachin Dodake</h1>\n",
    "\n",
    "<hr style=\"height:3px;border-width:1;color:blue;background-color:blue\">"
   ]
  },
  {
   "cell_type": "markdown",
   "id": "39ca5694",
   "metadata": {},
   "source": [
    "###  1. What is the role of the 'else' block in a try-except statement? Provide an example scenario where it would be useful."
   ]
  },
  {
   "cell_type": "markdown",
   "id": "b8a2712c",
   "metadata": {},
   "source": [
    "**`Ans-1`**\n",
    "\n",
    ">- The purpose of the `else block` in `try-except` is to execute code that should only run if no exceptions were raised in the try block. \n",
    ">- The `else block` is optional, and it follows all the except blocks in a `try-except` statement. \n",
    ">- If `no exceptions` are raised in the try block, the code in the `else block is executed`. This is useful for cases where you want to perform some action only if the try block completes successfully.\n",
    ">- **Example:**"
   ]
  },
  {
   "cell_type": "code",
   "execution_count": 1,
   "id": "21410b40",
   "metadata": {
    "ExecuteTime": {
     "end_time": "2023-06-23T05:24:23.293601Z",
     "start_time": "2023-06-23T05:24:13.178707Z"
    }
   },
   "outputs": [
    {
     "name": "stdout",
     "output_type": "stream",
     "text": [
      "Case-1\n",
      "\tEnter the first number: 22\n",
      "\tEnter the second number: 2\n",
      "\tThe result is: 11.0\n",
      "Case-2\n",
      "\tEnter the first number: 22\n",
      "\tEnter the second number: 0\n",
      "\tError: You cannot divide by zero.\n"
     ]
    }
   ],
   "source": [
    "try:\n",
    "    print(f\"Case-1\")\n",
    "    num1 = int(input(\"\\tEnter the first number: \"))     \n",
    "    num2 = int(input(\"\\tEnter the second number: \"))     \n",
    "    result = num1 / num2\n",
    "    \n",
    "except ZeroDivisionError:     \n",
    "    print(\"\\tError: You cannot divide by zero.\") \n",
    "    \n",
    "else:     \n",
    "    print(\"\\tThe result is:\", result)\n",
    "    \n",
    "##################################################    \n",
    "    \n",
    "try:\n",
    "    print(f\"Case-2\")\n",
    "    num1 = int(input(\"\\tEnter the first number: \"))     \n",
    "    num2 = int(input(\"\\tEnter the second number: \"))     \n",
    "    result = num1 / num2\n",
    "    \n",
    "except ZeroDivisionError:     \n",
    "    print(\"\\tError: You cannot divide by zero.\") \n",
    "    \n",
    "else:     \n",
    "    print(\"\\tThe result is:\", result)"
   ]
  },
  {
   "cell_type": "markdown",
   "id": "f453db00",
   "metadata": {},
   "source": [
    "###  2. Can a try-except block be nested inside another try-except block? Explain with an example."
   ]
  },
  {
   "cell_type": "markdown",
   "id": "c1bf0ec1",
   "metadata": {},
   "source": [
    "**`Ans-2`**\n",
    "\n",
    ">- Yes, we can nested a try-except block within another try-except block, this is called nested try-except block.\n",
    ">- In this case, if an exception is raised in the nested try block, the nested except block is used to handle it. In case the nested except is not able to handle it, the outer except blocks are used to handle the exception.\n",
    ">- **Example:**"
   ]
  },
  {
   "cell_type": "code",
   "execution_count": 9,
   "id": "5769a329",
   "metadata": {
    "ExecuteTime": {
     "end_time": "2023-06-23T09:48:29.758458Z",
     "start_time": "2023-06-23T09:48:29.712528Z"
    }
   },
   "outputs": [
    {
     "name": "stdout",
     "output_type": "stream",
     "text": [
      "OUTER TRY BLOCK\n",
      "\tINNER TRY BLOCK\n",
      "OUTER EXCEPT BLOCK\n",
      "division by zero\n"
     ]
    }
   ],
   "source": [
    "x = 10\n",
    "y = 0\n",
    " \n",
    "try:\n",
    "    print(\"OUTER TRY BLOCK\")\n",
    "    try:\n",
    "        print(\"\\tINNER TRY BLOCK\")\n",
    "        print(x / y)\n",
    "    except TypeError as te:\n",
    "        print(\"\\tINNER EXCEPT BLOCK\")\n",
    "        print(te)\n",
    "except ZeroDivisionError as ze:\n",
    "    print(\"OUTER EXCEPT BLOCK\")\n",
    "    print(ze)"
   ]
  },
  {
   "cell_type": "markdown",
   "id": "f5ce4c8d",
   "metadata": {},
   "source": [
    "###  3. How can you create a custom exception class in Python? Provide an example that demonstrates its usage."
   ]
  },
  {
   "cell_type": "markdown",
   "id": "320ed060",
   "metadata": {},
   "source": [
    "**`Ans-3`**\n",
    "\n",
    "> **`Custom Exceptions:`**\n",
    ">- In Python, we can define custom exceptions by creating a new class that is derived from the built-in Exception class."
   ]
  },
  {
   "cell_type": "markdown",
   "id": "171ccc97",
   "metadata": {},
   "source": [
    ">**Example with demonstration:**\n",
    ">- If the user input input_num is greater than 18, then there will be NO exception and program runs as expected.\n",
    ">- If the user input input_num is smaller than 18, then it will raise an exception.\n",
    ">- In example below, we have defined the custom exception` InvalidAgeException` by creating a new class that is derived from the built-in `Exception` class.\n",
    ">- Here, when `input_num` is smaller than `18`, this code generates an exception.\n",
    ">- When an exception occurs, the rest of the code inside the `try block` is skipped.\n",
    ">- The `except block` catches the user-defined `InvalidAgeException` exception and statements inside the `except block` are executed."
   ]
  },
  {
   "cell_type": "code",
   "execution_count": 13,
   "id": "4e0bcbf8",
   "metadata": {
    "ExecuteTime": {
     "end_time": "2023-06-23T09:54:42.909920Z",
     "start_time": "2023-06-23T09:54:40.746741Z"
    }
   },
   "outputs": [
    {
     "name": "stdout",
     "output_type": "stream",
     "text": [
      "Enter a number: 17\n",
      "Exception occurred: Invalid Age\n"
     ]
    }
   ],
   "source": [
    "# define Python user-defined exceptions\n",
    "class InvalidAgeException(Exception):\n",
    "    \"Raised when the input value is less than 18\"\n",
    "    pass\n",
    "\n",
    "# you need to guess this number\n",
    "number = 18\n",
    "\n",
    "try:\n",
    "    input_num = int(input(\"Enter a number: \"))\n",
    "    if input_num < number:\n",
    "        raise InvalidAgeException\n",
    "    else:\n",
    "        print(\"Eligible to Vote\")\n",
    "        \n",
    "except InvalidAgeException:\n",
    "    print(\"Exception occurred: Invalid Age\")"
   ]
  },
  {
   "cell_type": "markdown",
   "id": "6f190a9a",
   "metadata": {},
   "source": [
    "###  4. What are some common exceptions that are built-in to Python?"
   ]
  },
  {
   "cell_type": "markdown",
   "id": "61ad72b3",
   "metadata": {
    "ExecuteTime": {
     "end_time": "2023-06-23T09:56:23.072471Z",
     "start_time": "2023-06-23T09:56:23.049181Z"
    }
   },
   "source": [
    "**`Ans-4`**\n",
    "\n",
    "> **`Exceptions:`**\n",
    ">- Errors that occur at runtime (after passing the syntax test) are called exceptions or logical errors.\n",
    ">- Illegal operations can raise exceptions. There are plenty of built-in exceptions in Python that are raised when corresponding errors occur.\n",
    ">- We can view all the built-in exceptions using the built-in local() function as follows:\n",
    "                    print(dir(locals()['__builtins__']))\n",
    ">- Here, locals()['__builtins__'] will return a module of built-in exceptions, functions, and attributes and dir allows us to list these attributes as strings.\n",
    ">- The various exceptions and their causes are listed below:"
   ]
  },
  {
   "cell_type": "markdown",
   "id": "ecb0fe38",
   "metadata": {},
   "source": [
    ">- **`AssertionError:`**\tRaised when an assert statement fails.\n",
    ">- **`AttributeError:`**\tRaised when attribute assignment or reference fails.\n",
    ">- **`EOFError:`**\tRaised when the input() function hits end-of-file condition.\n",
    ">- **`FloatingPointError:`**\tRaised when a floating point operation fails.\n",
    ">- **`GeneratorExit:`**\tRaise when a generator's close() method is called.\n",
    ">- **`ImportError:`**\tRaised when the imported module is not found.\n",
    ">- **`IndexError:`**\tRaised when the index of a sequence is out of range.\n",
    ">- **`KeyError:`**\tRaised when a key is not found in a dictionary.\n",
    ">- **`KeyboardInterrupt:`**\tRaised when the user hits the interrupt key (Ctrl+C or Delete).\n",
    ">- **`MemoryError:`**\tRaised when an operation runs out of memory.\n",
    ">- **`NameError`**\tRaised when a variable is not found in local or global scope.\n",
    ">- **`NotImplementedError`**\tRaised by abstract methods.\n",
    ">- **`OSError`**\tRaised when system operation causes system related error.\n",
    ">- **`OverflowError`**\tRaised when the result of an arithmetic operation is too large to be represented.\n",
    ">- **`ReferenceError`**\tRaised when a weak reference proxy is used to access a garbage collected referent.\n",
    ">- **`RuntimeError`**\tRaised when an error does not fall under any other category.\n",
    ">- **`StopIteration`**\tRaised by next() function to indicate that there is no further item to be returned by iterator.\n",
    ">- **`SyntaxError`**\tRaised by parser when syntax error is encountered.\n",
    ">- **`IndentationError`**\tRaised when there is incorrect indentation.\n",
    ">- **`TabError`**\tRaised when indentation consists of inconsistent tabs and spaces.\n",
    ">- **`SystemError`**\tRaised when interpreter detects internal error.\n",
    ">- **`SystemExit`**\tRaised by sys.exit() function.\n",
    ">- **`TypeError`**\tRaised when a function or operation is applied to an object of incorrect type.\n",
    ">- **`UnboundLocalError`**\tRaised when a reference is made to a local variable in a function or method, but no value has been bound to that variable.\n",
    ">- **`UnicodeError`**\tRaised when a Unicode-related encoding or decoding error occurs.\n",
    ">- **`UnicodeEncodeError`**\tRaised when a Unicode-related error occurs during encoding.\n",
    ">- **`UnicodeDecodeError`**\tRaised when a Unicode-related error occurs during decoding.\n",
    ">- **`UnicodeTranslateError`**\tRaised when a Unicode-related error occurs during translating.\n",
    ">- **`ValueError`**\tRaised when a function gets an argument of correct type but improper value.\n",
    ">- **`ZeroDivisionError`**\tRaised when the second operand of division or modulo operation is zero."
   ]
  },
  {
   "cell_type": "markdown",
   "id": "35b7ccf5",
   "metadata": {},
   "source": [
    "###  5. What is logging in Python, and why is it important in software development?"
   ]
  },
  {
   "cell_type": "markdown",
   "id": "b0cfbefb",
   "metadata": {},
   "source": [
    "**`Ans-5`**\n",
    "\n",
    "> **`Logging:`**\n",
    ">- Logging is a means of tracking events that happen when some software runs. Logging is important for software developing, debugging, and running. If you don’t have any logging record and your program crashes, there are very few chances that you detect the cause of the problem. And if you detect the cause, it will consume a lot of time. With logging, you can leave a trail of breadcrumbs so that if something goes wrong, we can determine the cause of the problem.\n",
    "\n",
    "> **`Levels of Log Message:`**\n",
    ">- `Debug (Level-10):` These are used to give Detailed information, typically of interest only when diagnosing problems.\n",
    ">- `Info (Level-20) :` These are used to confirm that things are working as expected.\n",
    ">- `Warning (Level-30) :` These are used an indication that something unexpected happened, or is indicative of some problem in the near future.\n",
    ">- `Error (Level-40) :` This tells that due to a more serious problem, the software has not been able to perform some function.\n",
    ">- `Critical (Level-50) :` This tells serious error, indicating that the program itself may be unable to continue running.\n",
    "\n",
    "> **`Importance:`**\n",
    ">- Logging is essential to understand the behaviour of the application and to debug unexpected issues or for simply tracking events. In the production environment, we can’t debug issues without proper log files as they become the only source of information to debug some intermittent or unexpected errors.\n",
    ">- Helps Troubleshooting Bugs.\n",
    ">- Improves Monitoring Projects in Production Environments.\n",
    ">- Facilitates Debugging.\n",
    ">- You can easily control the format of the messages you log. The module comes with a lot of useful attributes that you can decide to include in your log.\n",
    ">- You can log messages with different levels of urgency/warning/information. This allows you to categorize log messages easily and makes your debugging life way easier.\n",
    ">- You can set the destination of your logs to pretty much anything. Even to sockets.\n",
    ">- Doesn’t tamper with the user experience if your module is being imported by other users."
   ]
  },
  {
   "cell_type": "markdown",
   "id": "58645d7b",
   "metadata": {},
   "source": [
    "###  6. Explain the purpose of log levels in Python logging and provide examples of when each log level would be appropriate."
   ]
  },
  {
   "cell_type": "markdown",
   "id": "80fcc50d",
   "metadata": {},
   "source": [
    "**`Ans-6`**\n",
    ">- There are 5 standard levels indicating the severity of events. Each has a corresponding method that can be used to log events at that level of severity. The defined levels, in order of increasing severity, are the following:\n",
    "            1. DEBUG\n",
    "            2. INFO\n",
    "            3. WARNING\n",
    "            4. ERROR\n",
    "            5. CRITICAL\n",
    ">- **Example:** The basic example on logging is as below: While there are five lines of logging, you may see only three lines of output if you run this script. This is because the root logger, by default, only prints the log messages of a severity level of WARNING or above. However, using the root logger this way is not much different from using the `print()` function."
   ]
  },
  {
   "cell_type": "code",
   "execution_count": 1,
   "id": "386b7518",
   "metadata": {
    "ExecuteTime": {
     "end_time": "2023-06-23T18:23:31.650046Z",
     "start_time": "2023-06-23T18:23:31.577549Z"
    }
   },
   "outputs": [
    {
     "name": "stderr",
     "output_type": "stream",
     "text": [
      "WARNING:root:Warning message\n",
      "ERROR:root:Error message\n",
      "CRITICAL:root:Critical message\n"
     ]
    }
   ],
   "source": [
    "import logging\n",
    "\n",
    "logging.debug('Debug message')\n",
    "logging.info('Info message')\n",
    "logging.warning('Warning message')\n",
    "logging.error('Error message')\n",
    "logging.critical('Critical message')"
   ]
  },
  {
   "cell_type": "markdown",
   "id": "333c10d3",
   "metadata": {},
   "source": [
    "###  7. What are log formatters in Python logging, and how can you customise the log message format using formatters?"
   ]
  },
  {
   "cell_type": "markdown",
   "id": "6b60fb58",
   "metadata": {},
   "source": [
    "**`Ans-7`**\n",
    "\n",
    "> **`Log Formatters:`**\n",
    ">- The formatters are used to define the structure of the output. It is used the string formatting methods to specify the format of the log messages.\n",
    ">- To configure the format of the logger, we use a Formatter. It allows us to set the format of the log, similarly to how we did so in the root logger’s basicConfig().\n",
    ">- First, we create a formatter, then set our handler to use that formatter. If we wanted to, we could make several different loggers, handlers, and formatters so that we could mix and match based on our preferences.\n"
   ]
  },
  {
   "cell_type": "code",
   "execution_count": 4,
   "id": "5135921e",
   "metadata": {
    "ExecuteTime": {
     "end_time": "2023-06-24T06:09:40.451031Z",
     "start_time": "2023-06-24T06:09:40.438840Z"
    }
   },
   "outputs": [],
   "source": [
    "import logging\n",
    "\n",
    "# Set up root logger, and add a file handler to root logger\n",
    "logging.basicConfig(filename = 'file.log',\n",
    "                    level = logging.WARNING,\n",
    "                    format = '%(asctime)s:%(levelname)s:%(name)s:%(message)s')\n",
    "\n",
    "# Create logger, set level, and add stream handler\n",
    "parent_logger = logging.getLogger(\"parent\")\n",
    "parent_logger.setLevel(logging.INFO)\n",
    "parent_fhandler = logging.FileHandler('parent.log')\n",
    "parent_fhandler.setLevel(logging.WARNING)\n",
    "parent_formatter = logging.Formatter('%(asctime)s:%(levelname)s:%(message)s')\n",
    "parent_fhandler.setFormatter(parent_formatter)\n",
    "parent_logger.addHandler(parent_fhandler)\n",
    "\n",
    "# Log message of severity INFO or above will be handled\n",
    "parent_logger.debug('Debug message')\n",
    "parent_logger.info('Info message')\n",
    "parent_logger.warning('Warning message')\n",
    "parent_logger.error('Error message')\n",
    "parent_logger.critical('Critical message')"
   ]
  },
  {
   "cell_type": "markdown",
   "id": "3d4b66f2",
   "metadata": {
    "ExecuteTime": {
     "end_time": "2023-06-24T06:08:43.426098Z",
     "start_time": "2023-06-24T06:08:43.402679Z"
    }
   },
   "source": [
    ">- After excecution of the above code, we will get two log files i.e. `file.log` and `parent.log` the output as below:\n",
    "    \n",
    ">- **`file.log`**\n",
    "            2023-06-24 11:36:24,546:INFO:parent:Info message\n",
    "            2023-06-24 11:36:24,546:WARNING:parent:Warning message\n",
    "            2023-06-24 11:36:24,546:ERROR:parent:Error message\n",
    "            2023-06-24 11:36:24,547:CRITICAL:parent:Critical message\n",
    "\n",
    ">- **`parent.log`**\n",
    "            2023-06-24 11:36:24,546:WARNING:Warning message\n",
    "            2023-06-24 11:36:24,546:ERROR:Error message\n",
    "            2023-06-24 11:36:24,547:CRITICAL:Critical message"
   ]
  },
  {
   "cell_type": "markdown",
   "id": "eba45cbb",
   "metadata": {},
   "source": [
    "###  8. How can you set up logging to capture log messages from multiple modules or classes in a Python application?"
   ]
  },
  {
   "cell_type": "markdown",
   "id": "00c56bb4",
   "metadata": {},
   "source": [
    "**`Ans-8`**\n",
    "\n",
    "> **`Log Messages from Multiple Modules:`**\n",
    ">- A well-organized Python application is likely composed of many modules. Sometimes these modules are intended to be used by other programs. Still, unless you’re intentionally developing reusable modules inside your application, you’re likely using modules available from PyPI and modules that you write yourself specifically for your application.\n",
    ">- In general, a module should emit log messages as a best practice and should not configure how those messages are handled. That is the responsibility of the application.\n",
    ">- The module needs two lines to set up logging, and then use the named logger:\n",
    "                    import logging\n",
    "                    log = logging.getLogger(__name__)\n",
    "                    def do_something():\n",
    "                            log.debug(\"Doing something!\")\n",
    "\n",
    "> **`Setup:`**\n",
    ">- To set up basic logging onto a file, you can use the basicConfig() constructor, as shown below."
   ]
  },
  {
   "cell_type": "code",
   "execution_count": 2,
   "id": "11d103e5",
   "metadata": {
    "ExecuteTime": {
     "end_time": "2023-06-24T06:22:09.574061Z",
     "start_time": "2023-06-24T06:22:09.568620Z"
    }
   },
   "outputs": [],
   "source": [
    "import logging\n",
    "\n",
    "logging.basicConfig(filename=\"py_log.log\",\n",
    "                    level=logging.INFO, \n",
    "                    filemode=\"w\",\n",
    "                    format=\"%(asctime)s %(levelname)s %(message)s\")\n",
    "logging.debug(\"A DEBUG Message\")\n",
    "logging.info(\"An INFO\")\n",
    "logging.warning(\"A WARNING\")\n",
    "logging.error(\"An ERROR\")\n",
    "logging.critical(\"A message of CRITICAL severity\")"
   ]
  },
  {
   "cell_type": "markdown",
   "id": "2ae8af56",
   "metadata": {},
   "source": [
    ">- Here, the purpose of various parameters are as below:\n",
    "    1. **`level:`** This is the level you’d like to start logging at. If this is set to info, then all messages corresponding to debug are ignored.\n",
    "    2. **`filename:`** The parameter filename denotes the file handler object. You can specify the name of the file to log onto.\n",
    "    3. **`filemode:`** This is an optional parameter specifying the mode in which you’d like to work with the log file specified by the parameter filename. Setting the file mode to it write (w) will overwrite the logs every time the module is run. The default filemode is append (a) which means you’ll have a log record of events across all runs of the program.\n",
    ">- After running the main module, you’ll see that the log file py_log.log has been created in the current working directory.\n",
    ">- Since we set the logging level to info, the log record now contains the message corresponding to INFO as below:\n",
    "            2023-06-24 11:52:09,571 INFO An INFO\n",
    "            2023-06-24 11:52:09,571 WARNING A WARNING\n",
    "            2023-06-24 11:52:09,571 ERROR An ERROR\n",
    "            2023-06-24 11:52:09,571 CRITICAL A message of CRITICAL severity\n",
    ">- The logs in the log file are of the format: **`<timestamp>:<logging-level>:<name-of-the-logger>:<message>`**. The **`<name-of-the-logger>`** is by default the root logger, as we haven’t yet configured custom loggers.     "
   ]
  },
  {
   "cell_type": "markdown",
   "id": "734c0cde",
   "metadata": {},
   "source": [
    "###  9. What is the `difference` between the `logging` and `print` statements in Python? When should you use logging over print statements in a real-world application?"
   ]
  },
  {
   "cell_type": "markdown",
   "id": "e2647c33",
   "metadata": {
    "ExecuteTime": {
     "end_time": "2023-06-24T07:40:18.216401Z",
     "start_time": "2023-06-24T07:40:18.196325Z"
    }
   },
   "source": [
    "**`Ans-9`**\n",
    "\n",
    "> **`Logging in Python`:**\n",
    ">- Record events and errors that occur during the execution of Python programs.\n",
    ">- Mainly used in the production environment.\n",
    ">- Some features are: Log levels, filtering, formatting, and more.\n",
    ">- It provides different log levels such as Debug, Info, Error, Warning, and Critical.\n",
    ">- **Example:**\n",
    " "
   ]
  },
  {
   "cell_type": "code",
   "execution_count": 8,
   "id": "0b4940ef",
   "metadata": {
    "ExecuteTime": {
     "end_time": "2023-06-24T07:41:30.849492Z",
     "start_time": "2023-06-24T07:41:30.840491Z"
    }
   },
   "outputs": [],
   "source": [
    "import logging; \n",
    "logging.basicConfig(level=logging.INFO); \n",
    "logging.info(\"Hello\")\n",
    "\n",
    "# Output:\n",
    "\n",
    "# Can be configured to log to different output destinations (e.g. console, file, network)"
   ]
  },
  {
   "cell_type": "markdown",
   "id": "8b8dae5e",
   "metadata": {
    "ExecuteTime": {
     "end_time": "2023-06-24T07:40:13.507201Z",
     "start_time": "2023-06-24T07:40:13.493461Z"
    }
   },
   "source": [
    "   \n",
    "    \n",
    "> **`Print in Python`:**\n",
    ">- Displays the information to the console for the debugging purposes.\n",
    ">- Mainly for debugging.\n",
    ">- There are no good features.\n",
    ">- It does not have any levels, it simply prints whatever is passed to it.\n",
    ">- **Example:**"
   ]
  },
  {
   "cell_type": "code",
   "execution_count": 10,
   "id": "96aac1b2",
   "metadata": {
    "ExecuteTime": {
     "end_time": "2023-06-24T07:41:53.279752Z",
     "start_time": "2023-06-24T07:41:53.273755Z"
    }
   },
   "outputs": [
    {
     "name": "stdout",
     "output_type": "stream",
     "text": [
      "Hello World!\n"
     ]
    }
   ],
   "source": [
    "print(\"Hello World!\")\n",
    "\n",
    "# Output:\n",
    "\n",
    "# Prints only on the console"
   ]
  },
  {
   "cell_type": "markdown",
   "id": "2bf9a1b8",
   "metadata": {},
   "source": [
    "###  10. Write a Python program that `logs a message` to a file named `\"app.log\"` with the following requirements:\n",
    "            ● The log message should be \"Hello, World!\"\n",
    "            ● The log level should be set to \"INFO.\"\n",
    "            ● The log file should append new log entries without overwriting previous ones."
   ]
  },
  {
   "cell_type": "markdown",
   "id": "d1e7ce06",
   "metadata": {},
   "source": [
    "**`Ans-10`**\n",
    "\n",
    ">- The program that record a log message \"Hello World!\" is as below:"
   ]
  },
  {
   "cell_type": "code",
   "execution_count": 3,
   "id": "75c30ba4",
   "metadata": {
    "ExecuteTime": {
     "end_time": "2023-06-24T08:22:01.596498Z",
     "start_time": "2023-06-24T08:22:01.577937Z"
    }
   },
   "outputs": [],
   "source": [
    "import logging\n",
    "\n",
    "logging.basicConfig(filename=\"app.log\",                       # setting filename as `app.log`\n",
    "                    level=logging.INFO,                                           # seting level as `INFO`\n",
    "                    filemode=\"w\",                                                       # setting filemode as `Write`\n",
    "                    format=\"%(asctime)s %(levelname)s %(message)s\")  # setting th format of log lines\n",
    "logging.debug(\"A DEBUG Message\")\n",
    "logging.info(\"Hello World!\")\n",
    "logging.warning(\"A WARNING\")\n",
    "logging.error(\"An ERROR\")\n",
    "logging.critical(\"A message of CRITICAL severity\")"
   ]
  },
  {
   "cell_type": "markdown",
   "id": "d73200ae",
   "metadata": {},
   "source": [
    ">- The output of this program is as below:\n",
    "            2023-06-24 13:51:52,516 INFO Hello World!                                                     # required msg \n",
    "            2023-06-24 13:51:52,517 WARNING A WARNING\n",
    "            2023-06-24 13:51:52,517 ERROR An ERROR\n",
    "            2023-06-24 13:51:52,517 CRITICAL A message of CRITICAL severity\n",
    "            2023-06-24 13:51:57,682 INFO Hello World!                                                          # loading log file 2nd time \n",
    "            2023-06-24 13:51:57,682 WARNING A WARNING\n",
    "            2023-06-24 13:51:57,684 ERROR An ERROR\n",
    "            2023-06-24 13:51:57,684 CRITICAL A message of CRITICAL severity\n",
    "            2023-06-24 13:52:01,580 INFO Hello World!                                                            # loading log file 3rd time \n",
    "            2023-06-24 13:52:01,581 WARNING A WARNING\n",
    "            2023-06-24 13:52:01,581 ERROR An ERROR\n",
    "            2023-06-24 13:52:01,581 CRITICAL A message of CRITICAL severity\n"
   ]
  },
  {
   "cell_type": "markdown",
   "id": "84b98c76",
   "metadata": {},
   "source": [
    "###  11. Create a Python program that logs an error message to the console and a file named \"errors.log\" if an exception occurs during the program's execution. The error message should include the exception type and a timestamp"
   ]
  },
  {
   "cell_type": "code",
   "execution_count": 1,
   "id": "deabda67",
   "metadata": {
    "ExecuteTime": {
     "end_time": "2023-06-24T17:21:05.453877Z",
     "start_time": "2023-06-24T17:21:02.091086Z"
    }
   },
   "outputs": [
    {
     "name": "stdout",
     "output_type": "stream",
     "text": [
      "Enter First Number: 99\n",
      "Enter Second Number: 0\n",
      "Error Message: ZeroDivisionError - division by zero\n"
     ]
    }
   ],
   "source": [
    "import logging\n",
    "\n",
    "# Configure logging\n",
    "logging.basicConfig(level=logging.ERROR,\n",
    "                    filename='errors.log', \n",
    "                    filemode='a', \n",
    "                    format='%(asctime)s:%(levelname)s:%(name)s:%(message)s')\n",
    "\n",
    "try:\n",
    "    num_1 = int(input(\"Enter First Number: \"))\n",
    "    num_2 = int(input(\"Enter Second Number: \"))\n",
    "    result = num_1/num_2\n",
    "    raise ZeroDivisionError(\"Idiot, we can't divide a number by Zero!\")\n",
    "\n",
    "except Exception as e:\n",
    "    error_msg = f\"{type(e).__name__} - {str(e)}\"\n",
    "    logging.error(str(error_msg), exc_info=True)\n",
    "    print(f\"\\tError Message: {error_msg}\")"
   ]
  }
 ],
 "metadata": {
  "hide_input": false,
  "kernelspec": {
   "display_name": "venv_heart_kernel",
   "language": "python",
   "name": "venv_heart_kernel"
  },
  "language_info": {
   "codemirror_mode": {
    "name": "ipython",
    "version": 3
   },
   "file_extension": ".py",
   "mimetype": "text/x-python",
   "name": "python",
   "nbconvert_exporter": "python",
   "pygments_lexer": "ipython3",
   "version": "3.10.9"
  },
  "varInspector": {
   "cols": {
    "lenName": 16,
    "lenType": 16,
    "lenVar": 40
   },
   "kernels_config": {
    "python": {
     "delete_cmd_postfix": "",
     "delete_cmd_prefix": "del ",
     "library": "var_list.py",
     "varRefreshCmd": "print(var_dic_list())"
    },
    "r": {
     "delete_cmd_postfix": ") ",
     "delete_cmd_prefix": "rm(",
     "library": "var_list.r",
     "varRefreshCmd": "cat(var_dic_list()) "
    }
   },
   "types_to_exclude": [
    "module",
    "function",
    "builtin_function_or_method",
    "instance",
    "_Feature"
   ],
   "window_display": false
  }
 },
 "nbformat": 4,
 "nbformat_minor": 5
}
